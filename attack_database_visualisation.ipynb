{
 "cells": [
  {
   "cell_type": "code",
   "execution_count": null,
   "id": "initial_id",
   "metadata": {
    "collapsed": true
   },
   "outputs": [],
   "source": [
    "import numpy as np\n",
    "import pandas as pd \n",
    "import os"
   ]
  },
  {
   "metadata": {},
   "cell_type": "code",
   "outputs": [],
   "execution_count": null,
   "source": [
    "directory = \"data\"\n",
    "\n",
    "processed_datasets = {}"
   ],
   "id": "1fc3679ff037f32e"
  },
  {
   "metadata": {},
   "cell_type": "code",
   "outputs": [],
   "execution_count": null,
   "source": "encoded_attacks = {0: None, 1:\"ARP MitM\", 2: \"Active Wiretap\", 3: \"Fuzzing\", 4: \"OS Scan\", 5: \"SSDP Flood\", 6: \"SSL Renegotiation\", 7: \"SYN DoS\", 8: \"Video Injection\" }",
   "id": "e8e9c7db3db9d23"
  },
  {
   "metadata": {},
   "cell_type": "code",
   "outputs": [],
   "execution_count": null,
   "source": [
    "seed = 42\n",
    "fraction= 0.15 # fraction of the dataset to be taken"
   ],
   "id": "aaa9e0449de4e1fb"
  },
  {
   "metadata": {},
   "cell_type": "code",
   "outputs": [],
   "execution_count": null,
   "source": [
    "def process_dataset(dataset_path, labels_path, dataset_name):\n",
    "    dataset = pd.read_csv(dataset_path)\n",
    "    print(\"read dataset: \", dataset_path)\n",
    "    labels = pd.read_csv(labels_path, index_col=\"Unnamed: 0\")\n",
    "    labels.rename(columns={'x': 'labels'}, inplace=True)\n",
    "    dataset = pd.concat([labels, dataset], axis=1)\n",
    "    dataset = dataset.sample(frac=fraction, random_state=seed)\n",
    "    return dataset"
   ],
   "id": "6e07674c557c9eef"
  },
  {
   "metadata": {},
   "cell_type": "code",
   "outputs": [],
   "execution_count": null,
   "source": [
    "datasets = [\"ARP MitM/ARP_MitM_dataset.csv\",\n",
    "            \"Active Wiretap/Active_Wiretap_dataset.csv\",\n",
    "            \"Fuzzing/Fuzzing_dataset.csv\",\n",
    "            \"OS Scan/OS_Scan_dataset.csv\",\n",
    "            \"SSDP Flood/SSDP_Flood_dataset.csv\",\n",
    "            \"SSL Renegotiation/SSL_Renegotiation_dataset.csv\",\n",
    "            \"SYN DoS/SYN_DoS_dataset.csv\",\n",
    "            \"Video Injection/Video_Injection_dataset.csv\"]\n",
    "labels = [\"ARP MitM/ARP_MitM_labels.csv\",\n",
    "          \"Active Wiretap/Active_Wiretap_labels.csv\",\n",
    "          \"Fuzzing/Fuzzing_labels.csv\",\n",
    "          \"OS Scan/OS_Scan_labels.csv\",\n",
    "          \"SSDP Flood/SSDP_Flood_labels.csv\",\n",
    "          \"SSL Renegotiation/SSL_Renegotiation_labels.csv\",\n",
    "          \"SYN DoS/SYN_DoS_labels.csv\",\n",
    "          \"Video Injection/Video_Injection_labels.csv\"]"
   ],
   "id": "abbb9ca0425adb67"
  },
  {
   "metadata": {},
   "cell_type": "code",
   "outputs": [],
   "execution_count": null,
   "source": [
    "dataset_array = []\n",
    "if not os.path.exists(\"/working/combined dataset.csv\"):\n",
    "    for index, (dataset_path, labels_path) in enumerate(zip(datasets, labels)):\n",
    "        dataset_path = directory + \"/\" + dataset_path\n",
    "        labels_path = directory + \"/\" + labels_path\n",
    "        name = encoded_attacks[index+1]\n",
    "        print(\"processing: \", name, dataset_path, labels_path)    \n",
    "        result = process_dataset(dataset_path, labels_path, name)\n",
    "        #result.to_csv(\"/working/\" + name + \".csv\", index=False)\n",
    "        result['labels'] = result['labels'].replace(1, index+1)\n",
    "        dataset_array.append(result)"
   ],
   "id": "ccf771c5e0dac9fc"
  },
  {
   "metadata": {},
   "cell_type": "code",
   "outputs": [],
   "execution_count": null,
   "source": "combined_dataset = pd.concat(dataset_array, ignore_index=True)",
   "id": "accafaf254370b51"
  },
  {
   "metadata": {},
   "cell_type": "code",
   "outputs": [],
   "execution_count": null,
   "source": [
    "combined_dataset.dropna(subset=['labels'], inplace=True)\n",
    "combined_dataset.fillna(0, inplace=True)"
   ],
   "id": "eaac633621bb0a6b"
  },
  {
   "metadata": {},
   "cell_type": "code",
   "outputs": [],
   "execution_count": null,
   "source": "combined_dataset = combined_dataset.sample(frac=1, random_state=seed)",
   "id": "e6901b118f845019"
  },
  {
   "metadata": {},
   "cell_type": "code",
   "outputs": [],
   "execution_count": null,
   "source": "combined_dataset.to_csv(\"/kaggle/working/combined dataset.csv\", index=False)",
   "id": "340aaf938e010ca5"
  }
 ],
 "metadata": {
  "kernelspec": {
   "display_name": "Python 3",
   "language": "python",
   "name": "python3"
  },
  "language_info": {
   "codemirror_mode": {
    "name": "ipython",
    "version": 2
   },
   "file_extension": ".py",
   "mimetype": "text/x-python",
   "name": "python",
   "nbconvert_exporter": "python",
   "pygments_lexer": "ipython2",
   "version": "2.7.6"
  }
 },
 "nbformat": 4,
 "nbformat_minor": 5
}
